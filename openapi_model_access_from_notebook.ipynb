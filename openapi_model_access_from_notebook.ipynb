{
 "cells": [
  {
   "cell_type": "markdown",
   "id": "1bbcdb01-0e98-4e91-b799-ead753cd8e76",
   "metadata": {},
   "source": [
    "# Open API access from notebook"
   ]
  },
  {
   "cell_type": "markdown",
   "id": "2a3e8ec1-5c4f-4da2-ba05-115f090839e8",
   "metadata": {},
   "source": [
    "### Steps to setup and use .env, in order to access Open API key\n",
    "- Use a simple text editor like Notepad on Windows or TextEdit on Mac.\n",
    "- Open your text editor and create a new file.\n",
    "- Write your environment variables in the format KEY=VALUE. For example: OPENAI_API_KEY=your_api_key_here\n",
    "- Save the File: Save the file with the name .env in your project directory. Make sure it doesn't have a .txt extension.\n",
    "- pip install python-dotenv\n",
    "- import and use as show in exmaple below."
   ]
  },
  {
   "cell_type": "code",
   "execution_count": 14,
   "id": "eed78400-08bb-48b6-881d-bc7030b318da",
   "metadata": {
    "collapsed": true,
    "jupyter": {
     "outputs_hidden": true
    },
    "scrolled": true
   },
   "outputs": [
    {
     "name": "stdout",
     "output_type": "stream",
     "text": [
      "Requirement already satisfied: openai in /Applications/anaconda3/lib/python3.11/site-packages (1.75.0)\n",
      "Requirement already satisfied: anyio<5,>=3.5.0 in /Applications/anaconda3/lib/python3.11/site-packages (from openai) (4.2.0)\n",
      "Requirement already satisfied: distro<2,>=1.7.0 in /Applications/anaconda3/lib/python3.11/site-packages (from openai) (1.8.0)\n",
      "Requirement already satisfied: httpx<1,>=0.23.0 in /Applications/anaconda3/lib/python3.11/site-packages (from openai) (0.28.1)\n",
      "Requirement already satisfied: jiter<1,>=0.4.0 in /Applications/anaconda3/lib/python3.11/site-packages (from openai) (0.9.0)\n",
      "Requirement already satisfied: pydantic<3,>=1.9.0 in /Applications/anaconda3/lib/python3.11/site-packages (from openai) (1.10.12)\n",
      "Requirement already satisfied: sniffio in /Applications/anaconda3/lib/python3.11/site-packages (from openai) (1.3.0)\n",
      "Requirement already satisfied: tqdm>4 in /Applications/anaconda3/lib/python3.11/site-packages (from openai) (4.65.0)\n",
      "Requirement already satisfied: typing-extensions<5,>=4.11 in /Applications/anaconda3/lib/python3.11/site-packages (from openai) (4.13.2)\n",
      "Requirement already satisfied: idna>=2.8 in /Applications/anaconda3/lib/python3.11/site-packages (from anyio<5,>=3.5.0->openai) (3.4)\n",
      "Requirement already satisfied: certifi in /Applications/anaconda3/lib/python3.11/site-packages (from httpx<1,>=0.23.0->openai) (2024.2.2)\n",
      "Requirement already satisfied: httpcore==1.* in /Applications/anaconda3/lib/python3.11/site-packages (from httpx<1,>=0.23.0->openai) (1.0.8)\n",
      "Requirement already satisfied: h11<0.15,>=0.13 in /Applications/anaconda3/lib/python3.11/site-packages (from httpcore==1.*->httpx<1,>=0.23.0->openai) (0.14.0)\n",
      "Requirement already satisfied: python-dotenv in /Applications/anaconda3/lib/python3.11/site-packages (1.1.0)\n",
      "Requirement already satisfied: aisetup in /Applications/anaconda3/lib/python3.11/site-packages (0.1.9)\n",
      "Requirement already satisfied: folium<0.18,>=0.17 in /Applications/anaconda3/lib/python3.11/site-packages (from aisetup) (0.17.0)\n",
      "Requirement already satisfied: ipython<9.0,>=8.18 in /Applications/anaconda3/lib/python3.11/site-packages (from aisetup) (8.20.0)\n",
      "Requirement already satisfied: ipywidgets<9.0.0,>=8.1.3 in /Applications/anaconda3/lib/python3.11/site-packages (from aisetup) (8.1.6)\n",
      "Requirement already satisfied: matplotlib<4.0.0,>=3.9.2 in /Applications/anaconda3/lib/python3.11/site-packages (from aisetup) (3.10.1)\n",
      "Requirement already satisfied: openai<2.0,>=1.42 in /Applications/anaconda3/lib/python3.11/site-packages (from aisetup) (1.75.0)\n",
      "Requirement already satisfied: pandas<3.0,>=2.2 in /Applications/anaconda3/lib/python3.11/site-packages (from aisetup) (2.2.3)\n",
      "Requirement already satisfied: python-dotenv<2.0.0,>=1.0.1 in /Applications/anaconda3/lib/python3.11/site-packages (from aisetup) (1.1.0)\n",
      "Requirement already satisfied: requests<3.0.0,>=2.32.3 in /Applications/anaconda3/lib/python3.11/site-packages (from aisetup) (2.32.3)\n",
      "Requirement already satisfied: branca>=0.6.0 in /Applications/anaconda3/lib/python3.11/site-packages (from folium<0.18,>=0.17->aisetup) (0.8.1)\n",
      "Requirement already satisfied: jinja2>=2.9 in /Applications/anaconda3/lib/python3.11/site-packages (from folium<0.18,>=0.17->aisetup) (3.1.3)\n",
      "Requirement already satisfied: numpy in /Applications/anaconda3/lib/python3.11/site-packages (from folium<0.18,>=0.17->aisetup) (1.26.4)\n",
      "Requirement already satisfied: xyzservices in /Applications/anaconda3/lib/python3.11/site-packages (from folium<0.18,>=0.17->aisetup) (2022.9.0)\n",
      "Requirement already satisfied: decorator in /Applications/anaconda3/lib/python3.11/site-packages (from ipython<9.0,>=8.18->aisetup) (5.1.1)\n",
      "Requirement already satisfied: jedi>=0.16 in /Applications/anaconda3/lib/python3.11/site-packages (from ipython<9.0,>=8.18->aisetup) (0.18.1)\n",
      "Requirement already satisfied: matplotlib-inline in /Applications/anaconda3/lib/python3.11/site-packages (from ipython<9.0,>=8.18->aisetup) (0.1.6)\n",
      "Requirement already satisfied: prompt-toolkit<3.1.0,>=3.0.41 in /Applications/anaconda3/lib/python3.11/site-packages (from ipython<9.0,>=8.18->aisetup) (3.0.43)\n",
      "Requirement already satisfied: pygments>=2.4.0 in /Applications/anaconda3/lib/python3.11/site-packages (from ipython<9.0,>=8.18->aisetup) (2.15.1)\n",
      "Requirement already satisfied: stack-data in /Applications/anaconda3/lib/python3.11/site-packages (from ipython<9.0,>=8.18->aisetup) (0.2.0)\n",
      "Requirement already satisfied: traitlets>=5 in /Applications/anaconda3/lib/python3.11/site-packages (from ipython<9.0,>=8.18->aisetup) (5.7.1)\n",
      "Requirement already satisfied: pexpect>4.3 in /Applications/anaconda3/lib/python3.11/site-packages (from ipython<9.0,>=8.18->aisetup) (4.8.0)\n",
      "Requirement already satisfied: comm>=0.1.3 in /Applications/anaconda3/lib/python3.11/site-packages (from ipywidgets<9.0.0,>=8.1.3->aisetup) (0.2.2)\n",
      "Requirement already satisfied: widgetsnbextension~=4.0.14 in /Applications/anaconda3/lib/python3.11/site-packages (from ipywidgets<9.0.0,>=8.1.3->aisetup) (4.0.14)\n",
      "Requirement already satisfied: jupyterlab_widgets~=3.0.14 in /Applications/anaconda3/lib/python3.11/site-packages (from ipywidgets<9.0.0,>=8.1.3->aisetup) (3.0.14)\n",
      "Requirement already satisfied: contourpy>=1.0.1 in /Applications/anaconda3/lib/python3.11/site-packages (from matplotlib<4.0.0,>=3.9.2->aisetup) (1.2.0)\n",
      "Requirement already satisfied: cycler>=0.10 in /Applications/anaconda3/lib/python3.11/site-packages (from matplotlib<4.0.0,>=3.9.2->aisetup) (0.11.0)\n",
      "Requirement already satisfied: fonttools>=4.22.0 in /Applications/anaconda3/lib/python3.11/site-packages (from matplotlib<4.0.0,>=3.9.2->aisetup) (4.25.0)\n",
      "Requirement already satisfied: kiwisolver>=1.3.1 in /Applications/anaconda3/lib/python3.11/site-packages (from matplotlib<4.0.0,>=3.9.2->aisetup) (1.4.4)\n",
      "Requirement already satisfied: packaging>=20.0 in /Applications/anaconda3/lib/python3.11/site-packages (from matplotlib<4.0.0,>=3.9.2->aisetup) (23.1)\n",
      "Requirement already satisfied: pillow>=8 in /Applications/anaconda3/lib/python3.11/site-packages (from matplotlib<4.0.0,>=3.9.2->aisetup) (10.2.0)\n",
      "Requirement already satisfied: pyparsing>=2.3.1 in /Applications/anaconda3/lib/python3.11/site-packages (from matplotlib<4.0.0,>=3.9.2->aisetup) (3.0.9)\n",
      "Requirement already satisfied: python-dateutil>=2.7 in /Applications/anaconda3/lib/python3.11/site-packages (from matplotlib<4.0.0,>=3.9.2->aisetup) (2.8.2)\n",
      "Requirement already satisfied: anyio<5,>=3.5.0 in /Applications/anaconda3/lib/python3.11/site-packages (from openai<2.0,>=1.42->aisetup) (4.2.0)\n",
      "Requirement already satisfied: distro<2,>=1.7.0 in /Applications/anaconda3/lib/python3.11/site-packages (from openai<2.0,>=1.42->aisetup) (1.8.0)\n",
      "Requirement already satisfied: httpx<1,>=0.23.0 in /Applications/anaconda3/lib/python3.11/site-packages (from openai<2.0,>=1.42->aisetup) (0.28.1)\n",
      "Requirement already satisfied: jiter<1,>=0.4.0 in /Applications/anaconda3/lib/python3.11/site-packages (from openai<2.0,>=1.42->aisetup) (0.9.0)\n",
      "Requirement already satisfied: pydantic<3,>=1.9.0 in /Applications/anaconda3/lib/python3.11/site-packages (from openai<2.0,>=1.42->aisetup) (1.10.12)\n",
      "Requirement already satisfied: sniffio in /Applications/anaconda3/lib/python3.11/site-packages (from openai<2.0,>=1.42->aisetup) (1.3.0)\n",
      "Requirement already satisfied: tqdm>4 in /Applications/anaconda3/lib/python3.11/site-packages (from openai<2.0,>=1.42->aisetup) (4.65.0)\n",
      "Requirement already satisfied: typing-extensions<5,>=4.11 in /Applications/anaconda3/lib/python3.11/site-packages (from openai<2.0,>=1.42->aisetup) (4.13.2)\n",
      "Requirement already satisfied: pytz>=2020.1 in /Applications/anaconda3/lib/python3.11/site-packages (from pandas<3.0,>=2.2->aisetup) (2023.3.post1)\n",
      "Requirement already satisfied: tzdata>=2022.7 in /Applications/anaconda3/lib/python3.11/site-packages (from pandas<3.0,>=2.2->aisetup) (2023.3)\n",
      "Requirement already satisfied: charset-normalizer<4,>=2 in /Applications/anaconda3/lib/python3.11/site-packages (from requests<3.0.0,>=2.32.3->aisetup) (2.0.4)\n",
      "Requirement already satisfied: idna<4,>=2.5 in /Applications/anaconda3/lib/python3.11/site-packages (from requests<3.0.0,>=2.32.3->aisetup) (3.4)\n",
      "Requirement already satisfied: urllib3<3,>=1.21.1 in /Applications/anaconda3/lib/python3.11/site-packages (from requests<3.0.0,>=2.32.3->aisetup) (2.0.7)\n",
      "Requirement already satisfied: certifi>=2017.4.17 in /Applications/anaconda3/lib/python3.11/site-packages (from requests<3.0.0,>=2.32.3->aisetup) (2024.2.2)\n",
      "Requirement already satisfied: httpcore==1.* in /Applications/anaconda3/lib/python3.11/site-packages (from httpx<1,>=0.23.0->openai<2.0,>=1.42->aisetup) (1.0.8)\n",
      "Requirement already satisfied: h11<0.15,>=0.13 in /Applications/anaconda3/lib/python3.11/site-packages (from httpcore==1.*->httpx<1,>=0.23.0->openai<2.0,>=1.42->aisetup) (0.14.0)\n",
      "Requirement already satisfied: parso<0.9.0,>=0.8.0 in /Applications/anaconda3/lib/python3.11/site-packages (from jedi>=0.16->ipython<9.0,>=8.18->aisetup) (0.8.3)\n",
      "Requirement already satisfied: MarkupSafe>=2.0 in /Applications/anaconda3/lib/python3.11/site-packages (from jinja2>=2.9->folium<0.18,>=0.17->aisetup) (2.1.3)\n",
      "Requirement already satisfied: ptyprocess>=0.5 in /Applications/anaconda3/lib/python3.11/site-packages (from pexpect>4.3->ipython<9.0,>=8.18->aisetup) (0.7.0)\n",
      "Requirement already satisfied: wcwidth in /Applications/anaconda3/lib/python3.11/site-packages (from prompt-toolkit<3.1.0,>=3.0.41->ipython<9.0,>=8.18->aisetup) (0.2.5)\n",
      "Requirement already satisfied: six>=1.5 in /Applications/anaconda3/lib/python3.11/site-packages (from python-dateutil>=2.7->matplotlib<4.0.0,>=3.9.2->aisetup) (1.16.0)\n",
      "Requirement already satisfied: executing in /Applications/anaconda3/lib/python3.11/site-packages (from stack-data->ipython<9.0,>=8.18->aisetup) (0.8.3)\n",
      "Requirement already satisfied: asttokens in /Applications/anaconda3/lib/python3.11/site-packages (from stack-data->ipython<9.0,>=8.18->aisetup) (2.0.5)\n",
      "Requirement already satisfied: pure-eval in /Applications/anaconda3/lib/python3.11/site-packages (from stack-data->ipython<9.0,>=8.18->aisetup) (0.2.2)\n"
     ]
    }
   ],
   "source": [
    "!pip install openai\n",
    "!pip install python-dotenv\n",
    "!pip install aisetup"
   ]
  },
  {
   "cell_type": "code",
   "execution_count": 28,
   "id": "c1be1f4f-c23a-4f0d-8df2-6526044749d4",
   "metadata": {},
   "outputs": [],
   "source": [
    "import os\n",
    "from dotenv import load_dotenv\n",
    "from openai import OpenAI\n",
    "from aisetup import authenticate, print_llm_response, get_llm_response"
   ]
  },
  {
   "cell_type": "code",
   "execution_count": 38,
   "id": "f302bf28-cb0a-4a4c-a0aa-45085131df7d",
   "metadata": {},
   "outputs": [
    {
     "data": {
      "text/plain": [
       "<openai.OpenAI at 0x16a881750>"
      ]
     },
     "execution_count": 38,
     "metadata": {},
     "output_type": "execute_result"
    }
   ],
   "source": [
    "# Get the OpenAI API key from the .env file\n",
    "load_dotenv('.env', override=True)\n",
    "openai_api_key = os.getenv('OPENAI_API_KEY')\n",
    "authenticate(openai_api_key)"
   ]
  },
  {
   "cell_type": "code",
   "execution_count": 61,
   "id": "cfaec29b-5fb2-49d5-b458-b627a42c50f3",
   "metadata": {},
   "outputs": [],
   "source": [
    "client = OpenAI(\n",
    "    api_key = os.environ.get('OPENAI_API_KEY')\n",
    ")"
   ]
  },
  {
   "cell_type": "code",
   "execution_count": 56,
   "id": "5e7903d8-7b9e-4060-94e6-87f7db838ff8",
   "metadata": {},
   "outputs": [],
   "source": [
    "def get_llm_response(prompt):\n",
    "    # response = openai.completions.create(model=\"gpt-3.5-turbo-instruct\", prompt=message.text, max_tokens=1000)\n",
    "\n",
    "    completion = client.chat.completions.create(\n",
    "        model=\"gpt-4o-mini\",\n",
    "        messages=[\n",
    "            {\n",
    "                \"role\": \"system\",\n",
    "                \"content\": \"You are an AI assistant.\",  # Try \"You are a sarcastic AI assistant.\"\n",
    "            },\n",
    "            {\"role\": \"user\", \"content\": prompt},\n",
    "        ],\n",
    "        temperature=0.0,  # Between 0 - 1, increase to see randomness in response.\n",
    "    )\n",
    "    response = completion.choices[0].message.content\n",
    "    return response"
   ]
  },
  {
   "cell_type": "code",
   "execution_count": 42,
   "id": "f97795f8-845f-4440-b9b6-aa0e79dff885",
   "metadata": {},
   "outputs": [
    {
     "name": "stdout",
     "output_type": "stream",
     "text": [
      "An International Bank Account Number (IBAN) is a standardized format for bank account numbers used internationally. The structure of an IBAN varies by country, but it typically includes a country code, check digits, and a bank account number.\n",
      "\n",
      "Here’s a sample IBAN for a few different countries:\n",
      "\n",
      "1. **Germany**: DE44 1234 1234 1234 1234 00\n",
      "2. **France**: FR76 3000 6000 0112 3456 7890 189\n",
      "3. **United Kingdom**: GB29 NWBK 6016 1331 9268 19\n",
      "4. **Italy**: IT60 X054 2811 1010 0000 0123 456\n",
      "5. **Spain**: ES91 2100 0418 4502 0005 1332\n",
      "\n",
      "Please note that these are fictitious examples and should not be used for any real transactions. Always ensure you are using valid IBANs for banking purposes.\n"
     ]
    }
   ],
   "source": [
    "prompt = \"Give me sample IBAN\"\n",
    "response = get_llm_response(prompt)\n",
    "print(response)"
   ]
  },
  {
   "cell_type": "code",
   "execution_count": 47,
   "id": "00643640-bdf2-43e1-9289-a16466ad51f7",
   "metadata": {},
   "outputs": [
    {
     "name": "stdout",
     "output_type": "stream",
     "text": [
      "To determine if an IBAN (International Bank Account Number) is valid, you can follow the IBAN validation process, which includes checking the structure and the checksum. The IBAN consists of a country code, two check digits, followed by the Basic Bank Account Number (BBAN).\n",
      "\n",
      "For the provided IBAN, **ES9121000418450200051332K**:\n",
      "\n",
      "1. **Country Code**: \"ES\" indicates that it is a Spanish IBAN.\n",
      "2. **Check Digits**: \"91\"\n",
      "3. **BBAN**: \"21000418450200051332K\"\n",
      "\n",
      "The structure for a Spanish IBAN is:\n",
      "- Country code: 2 letters (ES)\n",
      "- Check digits: 2 digits\n",
      "- Bank code: 4 digits\n",
      "- Branch code: 4 digits\n",
      "- Account number: 10 digits\n",
      "\n",
      "In this case, \"2100\" is the bank code, \"0418\" is the branch code, and \"450200051332K\" is the account number. The account number should be numeric, but it seems to end with a letter \"K,\" which is not standard for an IBAN.\n",
      "\n",
      "To validate the IBAN, you typically would perform the following steps:\n",
      "1. Ensure the structure is correct.\n",
      "2. Convert the letters to numbers (A=10, B=11, ..., Z=35).\n",
      "3. Rearrange the IBAN as specified (move the first four characters to the end).\n",
      "4. Perform a modulus 97 operation to check if the result is 1.\n",
      "\n",
      "Given the presence of the letter \"K\" in the account number section, this IBAN does not appear to be valid. IBANs should not contain letters in the account number portion for Spain. \n",
      "\n",
      "So, **ES9121000418450200051332K** is not a valid IBAN.\n"
     ]
    }
   ],
   "source": [
    "prompt = \"Is ES9121000418450200051332K a valid IBAN?\"\n",
    "response = get_llm_response(prompt)\n",
    "print(response)"
   ]
  },
  {
   "cell_type": "code",
   "execution_count": 59,
   "id": "95ac9d02-5984-47ca-ae75-6480cacdd982",
   "metadata": {},
   "outputs": [
    {
     "name": "stdout",
     "output_type": "stream",
     "text": [
      "To determine if an IBAN (International Bank Account Number) is valid, you can follow these steps:\n",
      "\n",
      "1. **Check the Length**: Each country has a specific length for its IBAN. The length of the IBAN you provided (EES9121000418450200051332) is 30 characters, which is consistent with the length of IBANs from some countries.\n",
      "\n",
      "2. **Country Code**: The first two letters (EE) indicate the country. In this case, \"EE\" is the country code for Estonia.\n",
      "\n",
      "3. **Check the Structure**: The IBAN structure for Estonia is as follows:\n",
      "   - 2 letters (country code)\n",
      "   - 2 digits (check digits)\n",
      "   - 16 digits (bank account number)\n",
      "\n",
      "4. **Validate Check Digits**: The check digits (the 2 digits following the country code) must be validated using the IBAN validation algorithm.\n",
      "\n",
      "Given the IBAN you provided:\n",
      "- Country Code: EE\n",
      "- Check Digits: 91\n",
      "- Bank Account Number: 21000418450200051332\n",
      "\n",
      "To validate the check digits, you would typically convert the IBAN into a numerical format and perform a modulo operation. However, without performing the actual calculation here, I can't definitively say if the check digits are valid.\n",
      "\n",
      "For a quick check, you can use online IBAN validation tools that will perform these checks for you. If you want to validate it manually, you can follow the steps outlined above.\n"
     ]
    }
   ],
   "source": [
    "prompt = \"Is EES9121000418450200051332 a valid IBAN?\"\n",
    "response = get_llm_response(prompt)\n",
    "print(response)"
   ]
  }
 ],
 "metadata": {
  "kernelspec": {
   "display_name": "Python 3 (ipykernel)",
   "language": "python",
   "name": "python3"
  },
  "language_info": {
   "codemirror_mode": {
    "name": "ipython",
    "version": 3
   },
   "file_extension": ".py",
   "mimetype": "text/x-python",
   "name": "python",
   "nbconvert_exporter": "python",
   "pygments_lexer": "ipython3",
   "version": "3.11.7"
  }
 },
 "nbformat": 4,
 "nbformat_minor": 5
}
